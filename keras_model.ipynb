{
 "cells": [
  {
   "cell_type": "code",
   "execution_count": 1,
   "metadata": {},
   "outputs": [],
   "source": [
    "# Import our dependencies\n",
    "import pandas as pd\n",
    "import matplotlib as plt\n",
    "from sklearn.datasets import make_blobs\n",
    "import sklearn as skl\n",
    "import tensorflow as tf"
   ]
  },
  {
   "cell_type": "code",
   "execution_count": 6,
   "metadata": {},
   "outputs": [
    {
     "data": {
      "text/plain": [
       "<AxesSubplot:xlabel='Feature 1', ylabel='Feature 2'>"
      ]
     },
     "execution_count": 6,
     "metadata": {},
     "output_type": "execute_result"
    },
    {
     "data": {
      "image/png": "[encoded data removed]",
      "text/plain": [
       "<Figure size 432x288 with 2 Axes>"
      ]
     },
     "metadata": {
      "needs_background": "light"
     },
     "output_type": "display_data"
    }
   ],
   "source": [
    "# Generate dummy dataset\n",
    "X, y = make_blobs(n_samples=1000, centers=2, n_features=2, random_state=78)\n",
    "# creating dataframe with dummy data\n",
    "df = pd.DataFrame(X, columns=[\"Feature 1\", \"Feature 2\"])\n",
    "df[\"Target\"] = y\n",
    "# Plotting the dummy data\n",
    "df.plot.scatter(x=\"Feature 1\", y=\"Feature 2\", c=\"Target\", colormap=\"winter\")\n"
   ]
  },
  {
   "cell_type": "code",
   "execution_count": 7,
   "metadata": {},
   "outputs": [],
   "source": [
    "# Use sklearn to split dataset\n",
    "from sklearn.model_selection import train_test_split\n",
    "X_train,X_test,y_train,y_test = train_test_split(X,y,random_state=78)"
   ]
  },
  {
   "cell_type": "code",
   "execution_count": 8,
   "metadata": {},
   "outputs": [],
   "source": [
    "# Create scalar instance\n",
    "X_scaler = skl.preprocessing.StandardScaler()\n",
    "# Fit the scaler\n",
    "X_scaler.fit(X_train)\n",
    "# Scale the data\n",
    "X_train_scaled = X_scaler.transform(X_train)\n",
    "X_test_scaled = X_scaler.transform(X_test)"
   ]
  },
  {
   "cell_type": "code",
   "execution_count": 9,
   "metadata": {},
   "outputs": [],
   "source": [
    "# Create the Keras Sequential model\n",
    "nn_model = tf.keras.models.Sequential()"
   ]
  },
  {
   "cell_type": "code",
   "execution_count": 10,
   "metadata": {},
   "outputs": [],
   "source": [
    "# Add our first Dense layer, including the input layer\n",
    "nn_model.add(tf.keras.layers.Dense(units=1, activation=\"relu\", input_dim=2))"
   ]
  },
  {
   "cell_type": "code",
   "execution_count": 11,
   "metadata": {},
   "outputs": [],
   "source": [
    "# Add the output layer that uses a probability activation function\n",
    "nn_model.add(tf.keras.layers.Dense(units=1, activation=\"sigmoid\"))"
   ]
  },
  {
   "cell_type": "code",
   "execution_count": 12,
   "metadata": {},
   "outputs": [
    {
     "name": "stdout",
     "output_type": "stream",
     "text": [
      "Model: \"sequential\"\n",
      "_________________________________________________________________\n",
      "Layer (type)                 Output Shape              Param #   \n",
      "=================================================================\n",
      "dense (Dense)                (None, 1)                 3         \n",
      "_________________________________________________________________\n",
      "dense_1 (Dense)              (None, 1)                 2         \n",
      "=================================================================\n",
      "Total params: 5\n",
      "Trainable params: 5\n",
      "Non-trainable params: 0\n",
      "_________________________________________________________________\n"
     ]
    }
   ],
   "source": [
    "# Check the structure of the Sequential model\n",
    "nn_model.summary()"
   ]
  },
  {
   "cell_type": "code",
   "execution_count": 13,
   "metadata": {},
   "outputs": [],
   "source": [
    "# Compile the Sequential model together and customize metrics\n",
    "nn_model.compile(loss=\"binary_crossentropy\", optimizer=\"adam\", metrics=[\"accuracy\"])"
   ]
  },
  {
   "cell_type": "code",
   "execution_count": 14,
   "metadata": {},
   "outputs": [
    {
     "name": "stdout",
     "output_type": "stream",
     "text": [
      "Epoch 1/100\n",
      "24/24 [==============================] - 0s 746us/step - loss: 0.9329 - accuracy: 6.2674e-04\n",
      "Epoch 2/100\n",
      "24/24 [==============================] - 0s 735us/step - loss: 0.8994 - accuracy: 0.0012\n",
      "Epoch 3/100\n",
      "24/24 [==============================] - 0s 789us/step - loss: 0.8821 - accuracy: 0.0039\n",
      "Epoch 4/100\n",
      "24/24 [==============================] - 0s 793us/step - loss: 0.8460 - accuracy: 0.0148\n",
      "Epoch 5/100\n",
      "24/24 [==============================] - 0s 752us/step - loss: 0.8395 - accuracy: 0.0154\n",
      "Epoch 6/100\n",
      "24/24 [==============================] - 0s 741us/step - loss: 0.8178 - accuracy: 0.0320\n",
      "Epoch 7/100\n",
      "24/24 [==============================] - 0s 734us/step - loss: 0.8002 - accuracy: 0.0606\n",
      "Epoch 8/100\n",
      "24/24 [==============================] - 0s 743us/step - loss: 0.7891 - accuracy: 0.0937\n",
      "Epoch 9/100\n",
      "24/24 [==============================] - 0s 764us/step - loss: 0.7823 - accuracy: 0.1080\n",
      "Epoch 10/100\n",
      "24/24 [==============================] - 0s 750us/step - loss: 0.7689 - accuracy: 0.1485\n",
      "Epoch 11/100\n",
      "24/24 [==============================] - 0s 749us/step - loss: 0.7581 - accuracy: 0.1645\n",
      "Epoch 12/100\n",
      "24/24 [==============================] - 0s 742us/step - loss: 0.7484 - accuracy: 0.2219\n",
      "Epoch 13/100\n",
      "24/24 [==============================] - 0s 764us/step - loss: 0.7438 - accuracy: 0.2347\n",
      "Epoch 14/100\n",
      "24/24 [==============================] - 0s 816us/step - loss: 0.7425 - accuracy: 0.2414\n",
      "Epoch 15/100\n",
      "24/24 [==============================] - 0s 779us/step - loss: 0.7362 - accuracy: 0.2634\n",
      "Epoch 16/100\n",
      "24/24 [==============================] - 0s 769us/step - loss: 0.7275 - accuracy: 0.3079\n",
      "Epoch 17/100\n",
      "24/24 [==============================] - 0s 716us/step - loss: 0.7251 - accuracy: 0.2980\n",
      "Epoch 18/100\n",
      "24/24 [==============================] - 0s 714us/step - loss: 0.7260 - accuracy: 0.3190\n",
      "Epoch 19/100\n",
      "24/24 [==============================] - 0s 746us/step - loss: 0.7235 - accuracy: 0.3023\n",
      "Epoch 20/100\n",
      "24/24 [==============================] - 0s 732us/step - loss: 0.7165 - accuracy: 0.3575\n",
      "Epoch 21/100\n",
      "24/24 [==============================] - 0s 723us/step - loss: 0.7164 - accuracy: 0.3381\n",
      "Epoch 22/100\n",
      "24/24 [==============================] - 0s 744us/step - loss: 0.7144 - accuracy: 0.3589\n",
      "Epoch 23/100\n",
      "24/24 [==============================] - 0s 735us/step - loss: 0.7103 - accuracy: 0.3700\n",
      "Epoch 24/100\n",
      "24/24 [==============================] - 0s 726us/step - loss: 0.7103 - accuracy: 0.3837\n",
      "Epoch 25/100\n",
      "24/24 [==============================] - 0s 770us/step - loss: 0.7067 - accuracy: 0.4222\n",
      "Epoch 26/100\n",
      "24/24 [==============================] - 0s 781us/step - loss: 0.7079 - accuracy: 0.4005\n",
      "Epoch 27/100\n",
      "24/24 [==============================] - 0s 772us/step - loss: 0.7045 - accuracy: 0.4162\n",
      "Epoch 28/100\n",
      "24/24 [==============================] - 0s 752us/step - loss: 0.7056 - accuracy: 0.4088\n",
      "Epoch 29/100\n",
      "24/24 [==============================] - 0s 817us/step - loss: 0.7052 - accuracy: 0.4136\n",
      "Epoch 30/100\n",
      "24/24 [==============================] - 0s 788us/step - loss: 0.7039 - accuracy: 0.4179\n",
      "Epoch 31/100\n",
      "24/24 [==============================] - 0s 727us/step - loss: 0.7003 - accuracy: 0.4384\n",
      "Epoch 32/100\n",
      "24/24 [==============================] - 0s 745us/step - loss: 0.6962 - accuracy: 0.4863\n",
      "Epoch 33/100\n",
      "24/24 [==============================] - 0s 727us/step - loss: 0.6977 - accuracy: 0.4758\n",
      "Epoch 34/100\n",
      "24/24 [==============================] - 0s 732us/step - loss: 0.6939 - accuracy: 0.5224\n",
      "Epoch 35/100\n",
      "24/24 [==============================] - 0s 736us/step - loss: 0.6976 - accuracy: 0.4724\n",
      "Epoch 36/100\n",
      "24/24 [==============================] - 0s 726us/step - loss: 0.6925 - accuracy: 0.5348\n",
      "Epoch 37/100\n",
      "24/24 [==============================] - 0s 824us/step - loss: 0.6886 - accuracy: 0.5460\n",
      "Epoch 38/100\n",
      "24/24 [==============================] - 0s 876us/step - loss: 0.6918 - accuracy: 0.5246\n",
      "Epoch 39/100\n",
      "24/24 [==============================] - 0s 658us/step - loss: 0.6906 - accuracy: 0.5285\n",
      "Epoch 40/100\n",
      "24/24 [==============================] - 0s 688us/step - loss: 0.6873 - accuracy: 0.5593\n",
      "Epoch 41/100\n",
      "24/24 [==============================] - 0s 731us/step - loss: 0.6864 - accuracy: 0.5640\n",
      "Epoch 42/100\n",
      "24/24 [==============================] - 0s 783us/step - loss: 0.6817 - accuracy: 0.5768\n",
      "Epoch 43/100\n",
      "24/24 [==============================] - 0s 707us/step - loss: 0.6842 - accuracy: 0.5668\n",
      "Epoch 44/100\n",
      "24/24 [==============================] - 0s 712us/step - loss: 0.6802 - accuracy: 0.5906\n",
      "Epoch 45/100\n",
      "24/24 [==============================] - 0s 731us/step - loss: 0.6804 - accuracy: 0.5901\n",
      "Epoch 46/100\n",
      "24/24 [==============================] - 0s 683us/step - loss: 0.6782 - accuracy: 0.6051\n",
      "Epoch 47/100\n",
      "24/24 [==============================] - 0s 678us/step - loss: 0.6715 - accuracy: 0.6454\n",
      "Epoch 48/100\n",
      "24/24 [==============================] - 0s 698us/step - loss: 0.6682 - accuracy: 0.6269\n",
      "Epoch 49/100\n",
      "24/24 [==============================] - 0s 716us/step - loss: 0.6624 - accuracy: 0.6766\n",
      "Epoch 50/100\n",
      "24/24 [==============================] - 0s 737us/step - loss: 0.6538 - accuracy: 0.6918\n",
      "Epoch 51/100\n",
      "24/24 [==============================] - 0s 740us/step - loss: 0.6520 - accuracy: 0.7002\n",
      "Epoch 52/100\n",
      "24/24 [==============================] - 0s 730us/step - loss: 0.6467 - accuracy: 0.7053\n",
      "Epoch 53/100\n",
      "24/24 [==============================] - 0s 711us/step - loss: 0.6456 - accuracy: 0.7144\n",
      "Epoch 54/100\n",
      "24/24 [==============================] - 0s 771us/step - loss: 0.6316 - accuracy: 0.7435\n",
      "Epoch 55/100\n",
      "24/24 [==============================] - 0s 763us/step - loss: 0.6315 - accuracy: 0.7305\n",
      "Epoch 56/100\n",
      "24/24 [==============================] - 0s 742us/step - loss: 0.6180 - accuracy: 0.7564\n",
      "Epoch 57/100\n",
      "24/24 [==============================] - 0s 695us/step - loss: 0.6104 - accuracy: 0.7791\n",
      "Epoch 58/100\n",
      "24/24 [==============================] - 0s 691us/step - loss: 0.6015 - accuracy: 0.7748\n",
      "Epoch 59/100\n",
      "24/24 [==============================] - 0s 701us/step - loss: 0.5924 - accuracy: 0.8015\n",
      "Epoch 60/100\n",
      "24/24 [==============================] - 0s 700us/step - loss: 0.5759 - accuracy: 0.8032\n",
      "Epoch 61/100\n",
      "24/24 [==============================] - 0s 714us/step - loss: 0.5802 - accuracy: 0.7923\n",
      "Epoch 62/100\n",
      "24/24 [==============================] - 0s 695us/step - loss: 0.5685 - accuracy: 0.7954\n",
      "Epoch 63/100\n",
      "24/24 [==============================] - 0s 704us/step - loss: 0.5501 - accuracy: 0.8291\n",
      "Epoch 64/100\n",
      "24/24 [==============================] - 0s 740us/step - loss: 0.5363 - accuracy: 0.8436\n",
      "Epoch 65/100\n",
      "24/24 [==============================] - 0s 709us/step - loss: 0.5328 - accuracy: 0.8403\n",
      "Epoch 66/100\n",
      "24/24 [==============================] - 0s 675us/step - loss: 0.5264 - accuracy: 0.8403\n",
      "Epoch 67/100\n",
      "24/24 [==============================] - 0s 707us/step - loss: 0.5021 - accuracy: 0.8651\n",
      "Epoch 68/100\n",
      "24/24 [==============================] - 0s 674us/step - loss: 0.4964 - accuracy: 0.8736\n",
      "Epoch 69/100\n",
      "24/24 [==============================] - 0s 691us/step - loss: 0.4637 - accuracy: 0.9002\n",
      "Epoch 70/100\n",
      "24/24 [==============================] - 0s 701us/step - loss: 0.4708 - accuracy: 0.8822\n",
      "Epoch 71/100\n",
      "24/24 [==============================] - 0s 709us/step - loss: 0.4519 - accuracy: 0.8934\n",
      "Epoch 72/100\n",
      "24/24 [==============================] - 0s 709us/step - loss: 0.4299 - accuracy: 0.9021\n",
      "Epoch 73/100\n",
      "24/24 [==============================] - 0s 735us/step - loss: 0.4413 - accuracy: 0.8872\n",
      "Epoch 74/100\n",
      "24/24 [==============================] - 0s 696us/step - loss: 0.4211 - accuracy: 0.9059\n",
      "Epoch 75/100\n",
      "24/24 [==============================] - 0s 709us/step - loss: 0.4017 - accuracy: 0.9250\n",
      "Epoch 76/100\n",
      "24/24 [==============================] - 0s 684us/step - loss: 0.4008 - accuracy: 0.9253\n",
      "Epoch 77/100\n",
      "24/24 [==============================] - 0s 674us/step - loss: 0.4067 - accuracy: 0.9214\n",
      "Epoch 78/100\n",
      "24/24 [==============================] - 0s 721us/step - loss: 0.3858 - accuracy: 0.9129\n",
      "Epoch 79/100\n",
      "24/24 [==============================] - 0s 702us/step - loss: 0.3767 - accuracy: 0.9249\n",
      "Epoch 80/100\n",
      "24/24 [==============================] - 0s 706us/step - loss: 0.3691 - accuracy: 0.9406\n",
      "Epoch 81/100\n"
     ]
    },
    {
     "name": "stdout",
     "output_type": "stream",
     "text": [
      "24/24 [==============================] - 0s 713us/step - loss: 0.3647 - accuracy: 0.9283\n",
      "Epoch 82/100\n",
      "24/24 [==============================] - 0s 839us/step - loss: 0.3433 - accuracy: 0.9356\n",
      "Epoch 83/100\n",
      "24/24 [==============================] - 0s 746us/step - loss: 0.3507 - accuracy: 0.9287\n",
      "Epoch 84/100\n",
      "24/24 [==============================] - 0s 727us/step - loss: 0.3254 - accuracy: 0.9434\n",
      "Epoch 85/100\n",
      "24/24 [==============================] - 0s 693us/step - loss: 0.3385 - accuracy: 0.9361\n",
      "Epoch 86/100\n",
      "24/24 [==============================] - 0s 720us/step - loss: 0.3067 - accuracy: 0.9483\n",
      "Epoch 87/100\n",
      "24/24 [==============================] - 0s 720us/step - loss: 0.3172 - accuracy: 0.9415\n",
      "Epoch 88/100\n",
      "24/24 [==============================] - 0s 705us/step - loss: 0.2936 - accuracy: 0.9570\n",
      "Epoch 89/100\n",
      "24/24 [==============================] - 0s 705us/step - loss: 0.2982 - accuracy: 0.9499\n",
      "Epoch 90/100\n",
      "24/24 [==============================] - 0s 686us/step - loss: 0.2890 - accuracy: 0.9507\n",
      "Epoch 91/100\n",
      "24/24 [==============================] - 0s 719us/step - loss: 0.2779 - accuracy: 0.9543\n",
      "Epoch 92/100\n",
      "24/24 [==============================] - 0s 732us/step - loss: 0.2804 - accuracy: 0.9566\n",
      "Epoch 93/100\n",
      "24/24 [==============================] - 0s 722us/step - loss: 0.2688 - accuracy: 0.9545\n",
      "Epoch 94/100\n",
      "24/24 [==============================] - 0s 701us/step - loss: 0.2626 - accuracy: 0.9494\n",
      "Epoch 95/100\n",
      "24/24 [==============================] - 0s 753us/step - loss: 0.2488 - accuracy: 0.9671\n",
      "Epoch 96/100\n",
      "24/24 [==============================] - 0s 984us/step - loss: 0.2534 - accuracy: 0.9624\n",
      "Epoch 97/100\n",
      "24/24 [==============================] - 0s 953us/step - loss: 0.2395 - accuracy: 0.9656\n",
      "Epoch 98/100\n",
      "24/24 [==============================] - 0s 1ms/step - loss: 0.2432 - accuracy: 0.9564\n",
      "Epoch 99/100\n",
      "24/24 [==============================] - 0s 833us/step - loss: 0.2391 - accuracy: 0.9597\n",
      "Epoch 100/100\n",
      "24/24 [==============================] - 0s 637us/step - loss: 0.2282 - accuracy: 0.9675\n"
     ]
    }
   ],
   "source": [
    "# Fit the model to the training data\n",
    "fit_model = nn_model.fit(X_train_scaled, y_train, epochs=100)"
   ]
  },
  {
   "cell_type": "code",
   "execution_count": 15,
   "metadata": {},
   "outputs": [
    {
     "data": {
      "text/plain": [
       "<AxesSubplot:>"
      ]
     },
     "execution_count": 15,
     "metadata": {},
     "output_type": "execute_result"
    },
    {
     "data": {
      "image/png": "[encoded data removed]",
      "text/plain": [
       "<Figure size 432x288 with 1 Axes>"
      ]
     },
     "metadata": {
      "needs_background": "light"
     },
     "output_type": "display_data"
    }
   ],
   "source": [
    "# Create a DataFrame containing training history\n",
    "history_df = pd.DataFrame(fit_model.history, index=range(1,len(fit_model.history[\"loss\"])+1))\n",
    "\n",
    "# Plot the loss\n",
    "history_df.plot(y=\"loss\")\n"
   ]
  },
  {
   "cell_type": "code",
   "execution_count": 16,
   "metadata": {},
   "outputs": [
    {
     "data": {
      "text/plain": [
       "<AxesSubplot:>"
      ]
     },
     "execution_count": 16,
     "metadata": {},
     "output_type": "execute_result"
    },
    {
     "data": {
      "image/png": "[encoded data removed]",
      "text/plain": [
       "<Figure size 432x288 with 1 Axes>"
      ]
     },
     "metadata": {
      "needs_background": "light"
     },
     "output_type": "display_data"
    }
   ],
   "source": [
    "# Plot the accuracy\n",
    "history_df.plot(y=\"accuracy\")"
   ]
  },
  {
   "cell_type": "code",
   "execution_count": 17,
   "metadata": {},
   "outputs": [
    {
     "name": "stdout",
     "output_type": "stream",
     "text": [
      "8/8 - 0s - loss: 0.2059 - accuracy: 0.9760\n",
      "Loss: 0.20591706037521362, Accuracy: 0.9760000109672546\n"
     ]
    }
   ],
   "source": [
    "# Evaluate the model using the test data\n",
    "model_loss, model_accuracy = nn_model.evaluate(X_test_scaled,y_test,verbose=2)\n",
    "print(f\"Loss: {model_loss}, Accuracy: {model_accuracy}\")"
   ]
  },
  {
   "cell_type": "code",
   "execution_count": 18,
   "metadata": {},
   "outputs": [
    {
     "data": {
      "text/plain": [
       "array([[0],\n",
       "       [1],\n",
       "       [0],\n",
       "       [1],\n",
       "       [0],\n",
       "       [0],\n",
       "       [1],\n",
       "       [1],\n",
       "       [1],\n",
       "       [0]], dtype=int32)"
      ]
     },
     "execution_count": 18,
     "metadata": {},
     "output_type": "execute_result"
    }
   ],
   "source": [
    "# Predict the classification of a new set of blob data\n",
    "new_X, new_Y = make_blobs(n_samples=10, centers=2, n_features=2, random_state=78)\n",
    "new_X_scaled = X_scaler.transform(new_X)\n",
    "(nn_model.predict(new_X_scaled) > 0.5).astype(\"int32\")"
   ]
  },
  {
   "cell_type": "code",
   "execution_count": 19,
   "metadata": {},
   "outputs": [
    {
     "data": {
      "text/plain": [
       "<AxesSubplot:xlabel='Feature 1', ylabel='Feature 2'>"
      ]
     },
     "execution_count": 19,
     "metadata": {},
     "output_type": "execute_result"
    },
    {
     "data": {
      "image/png": "[encoded data removed]",
      "text/plain": [
       "<Figure size 432x288 with 2 Axes>"
      ]
     },
     "metadata": {
      "needs_background": "light"
     },
     "output_type": "display_data"
    }
   ],
   "source": [
    "from sklearn.datasets import make_moons\n",
    "\n",
    "# Creating dummy nonlinear data\n",
    "X_moons, y_moons = make_moons(n_samples=1000, noise=0.08, random_state=78)\n",
    "\n",
    "# Transforming y_moons to a vertical vector\n",
    "y_moons = y_moons.reshape(-1, 1)\n",
    "\n",
    "# Creating a DataFrame to plot the nonlinear dummy data\n",
    "df_moons = pd.DataFrame(X_moons, columns=[\"Feature 1\", \"Feature 2\"])\n",
    "df_moons[\"Target\"] = y_moons\n",
    "\n",
    "# Plot the nonlinear dummy data\n",
    "df_moons.plot.scatter(x=\"Feature 1\",y=\"Feature 2\", c=\"Target\",colormap=\"winter\")"
   ]
  },
  {
   "cell_type": "code",
   "execution_count": 20,
   "metadata": {},
   "outputs": [],
   "source": [
    "# Create training and testing sets\n",
    "X_moon_train, X_moon_test, y_moon_train, y_moon_test = train_test_split(\n",
    "    X_moons, y_moons, random_state=78\n",
    ")\n",
    "\n",
    "# Create the scaler instance\n",
    "X_moon_scaler = skl.preprocessing.StandardScaler()\n",
    "\n",
    "# Fit the scaler\n",
    "X_moon_scaler.fit(X_moon_train)\n",
    "\n",
    "# Scale the data\n",
    "X_moon_train_scaled = X_moon_scaler.transform(X_moon_train)\n",
    "X_moon_test_scaled = X_moon_scaler.transform(X_moon_test)\n"
   ]
  },
  {
   "cell_type": "code",
   "execution_count": 21,
   "metadata": {},
   "outputs": [
    {
     "name": "stdout",
     "output_type": "stream",
     "text": [
      "Epoch 1/100\n",
      "24/24 [==============================] - 0s 1ms/step - loss: 1.4196 - accuracy: 0.2813\n",
      "Epoch 2/100\n",
      "24/24 [==============================] - 0s 1ms/step - loss: 1.2540 - accuracy: 0.2973\n",
      "Epoch 3/100\n",
      "24/24 [==============================] - 0s 1ms/step - loss: 1.1382 - accuracy: 0.3120\n",
      "Epoch 4/100\n",
      "24/24 [==============================] - 0s 1ms/step - loss: 1.0561 - accuracy: 0.3280\n",
      "Epoch 5/100\n",
      "24/24 [==============================] - 0s 1ms/step - loss: 0.9967 - accuracy: 0.3507\n",
      "Epoch 6/100\n",
      "24/24 [==============================] - 0s 1ms/step - loss: 0.9507 - accuracy: 0.3600\n",
      "Epoch 7/100\n",
      "24/24 [==============================] - 0s 1ms/step - loss: 0.9152 - accuracy: 0.3773\n",
      "Epoch 8/100\n",
      "24/24 [==============================] - 0s 1ms/step - loss: 0.8851 - accuracy: 0.3880\n",
      "Epoch 9/100\n",
      "24/24 [==============================] - 0s 1ms/step - loss: 0.8600 - accuracy: 0.4000\n",
      "Epoch 10/100\n",
      "24/24 [==============================] - 0s 1ms/step - loss: 0.8381 - accuracy: 0.4200\n",
      "Epoch 11/100\n",
      "24/24 [==============================] - 0s 1ms/step - loss: 0.8191 - accuracy: 0.4360\n",
      "Epoch 12/100\n",
      "24/24 [==============================] - 0s 1ms/step - loss: 0.8023 - accuracy: 0.4480\n",
      "Epoch 13/100\n",
      "24/24 [==============================] - 0s 1ms/step - loss: 0.7872 - accuracy: 0.4600\n",
      "Epoch 14/100\n",
      "24/24 [==============================] - 0s 1ms/step - loss: 0.7738 - accuracy: 0.4760\n",
      "Epoch 15/100\n",
      "24/24 [==============================] - 0s 1ms/step - loss: 0.7612 - accuracy: 0.4933\n",
      "Epoch 16/100\n",
      "24/24 [==============================] - 0s 1ms/step - loss: 0.7499 - accuracy: 0.5107\n",
      "Epoch 17/100\n",
      "24/24 [==============================] - 0s 1ms/step - loss: 0.7392 - accuracy: 0.5280\n",
      "Epoch 18/100\n",
      "24/24 [==============================] - 0s 1ms/step - loss: 0.7293 - accuracy: 0.5373\n",
      "Epoch 19/100\n",
      "24/24 [==============================] - 0s 1ms/step - loss: 0.7202 - accuracy: 0.5467\n",
      "Epoch 20/100\n",
      "24/24 [==============================] - 0s 1ms/step - loss: 0.7115 - accuracy: 0.5573\n",
      "Epoch 21/100\n",
      "24/24 [==============================] - 0s 1ms/step - loss: 0.7033 - accuracy: 0.5653\n",
      "Epoch 22/100\n",
      "24/24 [==============================] - 0s 1ms/step - loss: 0.6953 - accuracy: 0.5720\n",
      "Epoch 23/100\n",
      "24/24 [==============================] - 0s 1ms/step - loss: 0.6877 - accuracy: 0.5787\n",
      "Epoch 24/100\n",
      "24/24 [==============================] - 0s 1ms/step - loss: 0.6804 - accuracy: 0.5920\n",
      "Epoch 25/100\n",
      "24/24 [==============================] - 0s 1ms/step - loss: 0.6736 - accuracy: 0.5987\n",
      "Epoch 26/100\n",
      "24/24 [==============================] - 0s 994us/step - loss: 0.6670 - accuracy: 0.6067\n",
      "Epoch 27/100\n",
      "24/24 [==============================] - 0s 1ms/step - loss: 0.6610 - accuracy: 0.6107\n",
      "Epoch 28/100\n",
      "24/24 [==============================] - 0s 1ms/step - loss: 0.6553 - accuracy: 0.6133\n",
      "Epoch 29/100\n",
      "24/24 [==============================] - 0s 1ms/step - loss: 0.6496 - accuracy: 0.6200\n",
      "Epoch 30/100\n",
      "24/24 [==============================] - 0s 1ms/step - loss: 0.6443 - accuracy: 0.6293\n",
      "Epoch 31/100\n",
      "24/24 [==============================] - 0s 1ms/step - loss: 0.6390 - accuracy: 0.6373\n",
      "Epoch 32/100\n",
      "24/24 [==============================] - 0s 1ms/step - loss: 0.6339 - accuracy: 0.6453\n",
      "Epoch 33/100\n",
      "24/24 [==============================] - 0s 1ms/step - loss: 0.6290 - accuracy: 0.6507\n",
      "Epoch 34/100\n",
      "24/24 [==============================] - 0s 1ms/step - loss: 0.6241 - accuracy: 0.6520\n",
      "Epoch 35/100\n",
      "24/24 [==============================] - 0s 1ms/step - loss: 0.6196 - accuracy: 0.6560\n",
      "Epoch 36/100\n",
      "24/24 [==============================] - 0s 1ms/step - loss: 0.6152 - accuracy: 0.6587\n",
      "Epoch 37/100\n",
      "24/24 [==============================] - 0s 1ms/step - loss: 0.6111 - accuracy: 0.6547\n",
      "Epoch 38/100\n",
      "24/24 [==============================] - 0s 985us/step - loss: 0.6072 - accuracy: 0.6573\n",
      "Epoch 39/100\n",
      "24/24 [==============================] - 0s 1ms/step - loss: 0.6035 - accuracy: 0.6600\n",
      "Epoch 40/100\n",
      "24/24 [==============================] - 0s 1ms/step - loss: 0.5999 - accuracy: 0.6667\n",
      "Epoch 41/100\n",
      "24/24 [==============================] - 0s 1ms/step - loss: 0.5963 - accuracy: 0.6680\n",
      "Epoch 42/100\n",
      "24/24 [==============================] - 0s 1ms/step - loss: 0.5929 - accuracy: 0.6680\n",
      "Epoch 43/100\n",
      "24/24 [==============================] - 0s 1ms/step - loss: 0.5897 - accuracy: 0.6707\n",
      "Epoch 44/100\n",
      "24/24 [==============================] - 0s 1ms/step - loss: 0.5866 - accuracy: 0.6760\n",
      "Epoch 45/100\n",
      "24/24 [==============================] - 0s 1ms/step - loss: 0.5836 - accuracy: 0.6787\n",
      "Epoch 46/100\n",
      "24/24 [==============================] - 0s 1ms/step - loss: 0.5806 - accuracy: 0.6827\n",
      "Epoch 47/100\n",
      "24/24 [==============================] - 0s 1ms/step - loss: 0.5777 - accuracy: 0.6827\n",
      "Epoch 48/100\n",
      "24/24 [==============================] - 0s 1ms/step - loss: 0.5749 - accuracy: 0.6853\n",
      "Epoch 49/100\n",
      "24/24 [==============================] - 0s 1ms/step - loss: 0.5719 - accuracy: 0.6867\n",
      "Epoch 50/100\n",
      "24/24 [==============================] - 0s 1ms/step - loss: 0.5690 - accuracy: 0.6907\n",
      "Epoch 51/100\n",
      "24/24 [==============================] - 0s 1ms/step - loss: 0.5662 - accuracy: 0.6893\n",
      "Epoch 52/100\n",
      "24/24 [==============================] - 0s 1ms/step - loss: 0.5634 - accuracy: 0.6893\n",
      "Epoch 53/100\n",
      "24/24 [==============================] - 0s 1ms/step - loss: 0.5608 - accuracy: 0.6933\n",
      "Epoch 54/100\n",
      "24/24 [==============================] - 0s 1ms/step - loss: 0.5582 - accuracy: 0.7000\n",
      "Epoch 55/100\n",
      "24/24 [==============================] - 0s 1ms/step - loss: 0.5556 - accuracy: 0.7000\n",
      "Epoch 56/100\n",
      "24/24 [==============================] - 0s 1ms/step - loss: 0.5531 - accuracy: 0.7000\n",
      "Epoch 57/100\n",
      "24/24 [==============================] - 0s 1ms/step - loss: 0.5505 - accuracy: 0.7013\n",
      "Epoch 58/100\n",
      "24/24 [==============================] - 0s 1ms/step - loss: 0.5477 - accuracy: 0.7040\n",
      "Epoch 59/100\n",
      "24/24 [==============================] - 0s 1ms/step - loss: 0.5450 - accuracy: 0.7053\n",
      "Epoch 60/100\n",
      "24/24 [==============================] - 0s 1ms/step - loss: 0.5422 - accuracy: 0.7080\n",
      "Epoch 61/100\n",
      "24/24 [==============================] - 0s 1ms/step - loss: 0.5392 - accuracy: 0.7093\n",
      "Epoch 62/100\n",
      "24/24 [==============================] - 0s 987us/step - loss: 0.5365 - accuracy: 0.7107\n",
      "Epoch 63/100\n",
      "24/24 [==============================] - 0s 1ms/step - loss: 0.5336 - accuracy: 0.7107\n",
      "Epoch 64/100\n",
      "24/24 [==============================] - 0s 1ms/step - loss: 0.5307 - accuracy: 0.7107\n",
      "Epoch 65/100\n",
      "24/24 [==============================] - 0s 1ms/step - loss: 0.5281 - accuracy: 0.7120\n",
      "Epoch 66/100\n",
      "24/24 [==============================] - 0s 1ms/step - loss: 0.5253 - accuracy: 0.7147\n",
      "Epoch 67/100\n",
      "24/24 [==============================] - 0s 1ms/step - loss: 0.5227 - accuracy: 0.7173\n",
      "Epoch 68/100\n",
      "24/24 [==============================] - 0s 1ms/step - loss: 0.5201 - accuracy: 0.7213\n",
      "Epoch 69/100\n",
      "24/24 [==============================] - 0s 1ms/step - loss: 0.5174 - accuracy: 0.7240\n",
      "Epoch 70/100\n",
      "24/24 [==============================] - 0s 1ms/step - loss: 0.5148 - accuracy: 0.7253\n",
      "Epoch 71/100\n",
      "24/24 [==============================] - 0s 1ms/step - loss: 0.5125 - accuracy: 0.7293\n",
      "Epoch 72/100\n",
      "24/24 [==============================] - 0s 1ms/step - loss: 0.5099 - accuracy: 0.7347\n",
      "Epoch 73/100\n",
      "24/24 [==============================] - 0s 991us/step - loss: 0.5072 - accuracy: 0.7373\n",
      "Epoch 74/100\n",
      "24/24 [==============================] - 0s 1ms/step - loss: 0.5045 - accuracy: 0.7373\n",
      "Epoch 75/100\n",
      "24/24 [==============================] - 0s 1ms/step - loss: 0.5020 - accuracy: 0.7427\n",
      "Epoch 76/100\n",
      "24/24 [==============================] - 0s 1ms/step - loss: 0.4993 - accuracy: 0.7467\n",
      "Epoch 77/100\n",
      "24/24 [==============================] - 0s 1ms/step - loss: 0.4967 - accuracy: 0.7480\n",
      "Epoch 78/100\n",
      "24/24 [==============================] - 0s 1ms/step - loss: 0.4941 - accuracy: 0.7480\n",
      "Epoch 79/100\n",
      "24/24 [==============================] - 0s 1ms/step - loss: 0.4917 - accuracy: 0.7560\n",
      "Epoch 80/100\n",
      "24/24 [==============================] - 0s 1ms/step - loss: 0.4893 - accuracy: 0.7560\n",
      "Epoch 81/100\n",
      "24/24 [==============================] - 0s 1ms/step - loss: 0.4868 - accuracy: 0.7600\n",
      "Epoch 82/100\n"
     ]
    },
    {
     "name": "stdout",
     "output_type": "stream",
     "text": [
      "24/24 [==============================] - 0s 1ms/step - loss: 0.4844 - accuracy: 0.7587\n",
      "Epoch 83/100\n",
      "24/24 [==============================] - 0s 1ms/step - loss: 0.4819 - accuracy: 0.7613\n",
      "Epoch 84/100\n",
      "24/24 [==============================] - 0s 1ms/step - loss: 0.4794 - accuracy: 0.7627\n",
      "Epoch 85/100\n",
      "24/24 [==============================] - 0s 1ms/step - loss: 0.4769 - accuracy: 0.7653\n",
      "Epoch 86/100\n",
      "24/24 [==============================] - 0s 1ms/step - loss: 0.4745 - accuracy: 0.7680\n",
      "Epoch 87/100\n",
      "24/24 [==============================] - 0s 1ms/step - loss: 0.4720 - accuracy: 0.7707\n",
      "Epoch 88/100\n",
      "24/24 [==============================] - 0s 1ms/step - loss: 0.4697 - accuracy: 0.7693\n",
      "Epoch 89/100\n",
      "24/24 [==============================] - 0s 1ms/step - loss: 0.4673 - accuracy: 0.7720\n",
      "Epoch 90/100\n",
      "24/24 [==============================] - 0s 1ms/step - loss: 0.4651 - accuracy: 0.7720\n",
      "Epoch 91/100\n",
      "24/24 [==============================] - 0s 979us/step - loss: 0.4627 - accuracy: 0.7733\n",
      "Epoch 92/100\n",
      "24/24 [==============================] - 0s 1ms/step - loss: 0.4604 - accuracy: 0.7787\n",
      "Epoch 93/100\n",
      "24/24 [==============================] - 0s 1ms/step - loss: 0.4580 - accuracy: 0.7813\n",
      "Epoch 94/100\n",
      "24/24 [==============================] - 0s 1ms/step - loss: 0.4555 - accuracy: 0.7827\n",
      "Epoch 95/100\n",
      "24/24 [==============================] - 0s 1ms/step - loss: 0.4530 - accuracy: 0.7853\n",
      "Epoch 96/100\n",
      "24/24 [==============================] - 0s 2ms/step - loss: 0.4504 - accuracy: 0.7867\n",
      "Epoch 97/100\n",
      "24/24 [==============================] - 0s 1ms/step - loss: 0.4478 - accuracy: 0.7880\n",
      "Epoch 98/100\n",
      "24/24 [==============================] - 0s 1ms/step - loss: 0.4452 - accuracy: 0.7920\n",
      "Epoch 99/100\n",
      "24/24 [==============================] - 0s 1ms/step - loss: 0.4426 - accuracy: 0.7920\n",
      "Epoch 100/100\n",
      "24/24 [==============================] - 0s 1ms/step - loss: 0.4400 - accuracy: 0.7960\n"
     ]
    }
   ],
   "source": [
    "# Training the model with the nonlinear data\n",
    "model_moon = nn_model.fit(X_moon_train_scaled, y_moon_train, epochs=100, shuffle=True)"
   ]
  },
  {
   "cell_type": "code",
   "execution_count": 22,
   "metadata": {},
   "outputs": [
    {
     "data": {
      "text/plain": [
       "<AxesSubplot:>"
      ]
     },
     "execution_count": 22,
     "metadata": {},
     "output_type": "execute_result"
    },
    {
     "data": {
      "image/png": "[encoded data removed]",
      "text/plain": [
       "<Figure size 432x288 with 1 Axes>"
      ]
     },
     "metadata": {
      "needs_background": "light"
     },
     "output_type": "display_data"
    }
   ],
   "source": [
    "# Create a DataFrame containing training history\n",
    "history_df = pd.DataFrame(model_moon.history, index=range(1,len(model_moon.history[\"loss\"])+1))\n",
    "\n",
    "# Plot the loss\n",
    "history_df.plot(y=\"loss\")"
   ]
  },
  {
   "cell_type": "code",
   "execution_count": 23,
   "metadata": {},
   "outputs": [
    {
     "data": {
      "text/plain": [
       "<AxesSubplot:>"
      ]
     },
     "execution_count": 23,
     "metadata": {},
     "output_type": "execute_result"
    },
    {
     "data": {
      "image/png": "[encoded data removed]",
      "text/plain": [
       "<Figure size 432x288 with 1 Axes>"
      ]
     },
     "metadata": {
      "needs_background": "light"
     },
     "output_type": "display_data"
    }
   ],
   "source": [
    "# Plot the loss\n",
    "history_df.plot(y=\"accuracy\")"
   ]
  },
  {
   "cell_type": "code",
   "execution_count": 24,
   "metadata": {},
   "outputs": [],
   "source": [
    "# Generate our new Sequential model\n",
    "new_model = tf.keras.models.Sequential()"
   ]
  },
  {
   "cell_type": "code",
   "execution_count": 25,
   "metadata": {},
   "outputs": [],
   "source": [
    "# Add the input and hidden layer\n",
    "number_inputs = 2\n",
    "number_hidden_nodes = 6\n",
    "\n",
    "new_model.add(tf.keras.layers.Dense(units=number_hidden_nodes, activation=\"relu\", input_dim=number_inputs))\n",
    "\n",
    "# Add the output layer that uses a probability activation function\n",
    "new_model.add(tf.keras.layers.Dense(units=1, activation=\"sigmoid\"))\n"
   ]
  },
  {
   "cell_type": "code",
   "execution_count": 26,
   "metadata": {},
   "outputs": [
    {
     "name": "stdout",
     "output_type": "stream",
     "text": [
      "Epoch 1/100\n",
      "24/24 [==============================] - 0s 745us/step - loss: 0.7722 - accuracy: 0.5598\n",
      "Epoch 2/100\n",
      "24/24 [==============================] - 0s 791us/step - loss: 0.7406 - accuracy: 0.5509\n",
      "Epoch 3/100\n",
      "24/24 [==============================] - 0s 783us/step - loss: 0.6705 - accuracy: 0.5848\n",
      "Epoch 4/100\n",
      "24/24 [==============================] - 0s 799us/step - loss: 0.6239 - accuracy: 0.5924\n",
      "Epoch 5/100\n",
      "24/24 [==============================] - 0s 787us/step - loss: 0.5858 - accuracy: 0.6153\n",
      "Epoch 6/100\n",
      "24/24 [==============================] - 0s 769us/step - loss: 0.5447 - accuracy: 0.6264\n",
      "Epoch 7/100\n",
      "24/24 [==============================] - 0s 787us/step - loss: 0.5095 - accuracy: 0.6441\n",
      "Epoch 8/100\n",
      "24/24 [==============================] - 0s 786us/step - loss: 0.5029 - accuracy: 0.7117\n",
      "Epoch 9/100\n",
      "24/24 [==============================] - 0s 873us/step - loss: 0.4590 - accuracy: 0.8152\n",
      "Epoch 10/100\n",
      "24/24 [==============================] - 0s 737us/step - loss: 0.4339 - accuracy: 0.8708\n",
      "Epoch 11/100\n",
      "24/24 [==============================] - 0s 790us/step - loss: 0.4108 - accuracy: 0.8779\n",
      "Epoch 12/100\n",
      "24/24 [==============================] - 0s 771us/step - loss: 0.3977 - accuracy: 0.8716\n",
      "Epoch 13/100\n",
      "24/24 [==============================] - 0s 773us/step - loss: 0.3954 - accuracy: 0.8607\n",
      "Epoch 14/100\n",
      "24/24 [==============================] - 0s 783us/step - loss: 0.3662 - accuracy: 0.8849\n",
      "Epoch 15/100\n",
      "24/24 [==============================] - 0s 711us/step - loss: 0.3584 - accuracy: 0.8657\n",
      "Epoch 16/100\n",
      "24/24 [==============================] - 0s 814us/step - loss: 0.3547 - accuracy: 0.8671\n",
      "Epoch 17/100\n",
      "24/24 [==============================] - 0s 796us/step - loss: 0.3396 - accuracy: 0.8737\n",
      "Epoch 18/100\n",
      "24/24 [==============================] - 0s 789us/step - loss: 0.3168 - accuracy: 0.8871\n",
      "Epoch 19/100\n",
      "24/24 [==============================] - 0s 735us/step - loss: 0.3231 - accuracy: 0.8620\n",
      "Epoch 20/100\n",
      "24/24 [==============================] - 0s 731us/step - loss: 0.3247 - accuracy: 0.8619\n",
      "Epoch 21/100\n",
      "24/24 [==============================] - 0s 805us/step - loss: 0.3125 - accuracy: 0.8691\n",
      "Epoch 22/100\n",
      "24/24 [==============================] - 0s 800us/step - loss: 0.2909 - accuracy: 0.8822\n",
      "Epoch 23/100\n",
      "24/24 [==============================] - 0s 761us/step - loss: 0.2961 - accuracy: 0.8774\n",
      "Epoch 24/100\n",
      "24/24 [==============================] - 0s 790us/step - loss: 0.3017 - accuracy: 0.8707\n",
      "Epoch 25/100\n",
      "24/24 [==============================] - 0s 776us/step - loss: 0.2839 - accuracy: 0.8807\n",
      "Epoch 26/100\n",
      "24/24 [==============================] - 0s 777us/step - loss: 0.3000 - accuracy: 0.8707\n",
      "Epoch 27/100\n",
      "24/24 [==============================] - 0s 787us/step - loss: 0.2818 - accuracy: 0.8829\n",
      "Epoch 28/100\n",
      "24/24 [==============================] - 0s 698us/step - loss: 0.2766 - accuracy: 0.8772\n",
      "Epoch 29/100\n",
      "24/24 [==============================] - 0s 814us/step - loss: 0.2667 - accuracy: 0.8840\n",
      "Epoch 30/100\n",
      "24/24 [==============================] - 0s 832us/step - loss: 0.2521 - accuracy: 0.8942\n",
      "Epoch 31/100\n",
      "24/24 [==============================] - 0s 780us/step - loss: 0.2503 - accuracy: 0.8964\n",
      "Epoch 32/100\n",
      "24/24 [==============================] - 0s 708us/step - loss: 0.2584 - accuracy: 0.8924\n",
      "Epoch 33/100\n",
      "24/24 [==============================] - 0s 780us/step - loss: 0.2769 - accuracy: 0.8802\n",
      "Epoch 34/100\n",
      "24/24 [==============================] - 0s 776us/step - loss: 0.2528 - accuracy: 0.9016\n",
      "Epoch 35/100\n",
      "24/24 [==============================] - 0s 786us/step - loss: 0.2385 - accuracy: 0.9036\n",
      "Epoch 36/100\n",
      "24/24 [==============================] - 0s 773us/step - loss: 0.2569 - accuracy: 0.8949\n",
      "Epoch 37/100\n",
      "24/24 [==============================] - 0s 779us/step - loss: 0.2479 - accuracy: 0.8985\n",
      "Epoch 38/100\n",
      "24/24 [==============================] - 0s 843us/step - loss: 0.2778 - accuracy: 0.8751\n",
      "Epoch 39/100\n",
      "24/24 [==============================] - 0s 750us/step - loss: 0.2563 - accuracy: 0.8990\n",
      "Epoch 40/100\n",
      "24/24 [==============================] - 0s 747us/step - loss: 0.2638 - accuracy: 0.8941\n",
      "Epoch 41/100\n",
      "24/24 [==============================] - 0s 738us/step - loss: 0.2602 - accuracy: 0.8836\n",
      "Epoch 42/100\n",
      "24/24 [==============================] - 0s 738us/step - loss: 0.2570 - accuracy: 0.8963\n",
      "Epoch 43/100\n",
      "24/24 [==============================] - 0s 1ms/step - loss: 0.2531 - accuracy: 0.8946\n",
      "Epoch 44/100\n",
      "24/24 [==============================] - 0s 892us/step - loss: 0.2776 - accuracy: 0.8842\n",
      "Epoch 45/100\n",
      "24/24 [==============================] - 0s 769us/step - loss: 0.2569 - accuracy: 0.8981\n",
      "Epoch 46/100\n",
      "24/24 [==============================] - 0s 732us/step - loss: 0.2354 - accuracy: 0.8987\n",
      "Epoch 47/100\n",
      "24/24 [==============================] - 0s 771us/step - loss: 0.2687 - accuracy: 0.8841\n",
      "Epoch 48/100\n",
      "24/24 [==============================] - 0s 670us/step - loss: 0.2347 - accuracy: 0.9083\n",
      "Epoch 49/100\n",
      "24/24 [==============================] - 0s 700us/step - loss: 0.2579 - accuracy: 0.8850\n",
      "Epoch 50/100\n",
      "24/24 [==============================] - 0s 761us/step - loss: 0.2309 - accuracy: 0.9022\n",
      "Epoch 51/100\n",
      "24/24 [==============================] - 0s 735us/step - loss: 0.2329 - accuracy: 0.9027\n",
      "Epoch 52/100\n",
      "24/24 [==============================] - 0s 714us/step - loss: 0.2597 - accuracy: 0.8942\n",
      "Epoch 53/100\n",
      "24/24 [==============================] - 0s 743us/step - loss: 0.2543 - accuracy: 0.8865\n",
      "Epoch 54/100\n",
      "24/24 [==============================] - 0s 700us/step - loss: 0.2607 - accuracy: 0.8850\n",
      "Epoch 55/100\n",
      "24/24 [==============================] - 0s 704us/step - loss: 0.2427 - accuracy: 0.8991\n",
      "Epoch 56/100\n",
      "24/24 [==============================] - 0s 841us/step - loss: 0.2266 - accuracy: 0.9092\n",
      "Epoch 57/100\n",
      "24/24 [==============================] - 0s 1ms/step - loss: 0.2598 - accuracy: 0.8879\n",
      "Epoch 58/100\n",
      "24/24 [==============================] - 0s 1ms/step - loss: 0.2520 - accuracy: 0.8960\n",
      "Epoch 59/100\n",
      "24/24 [==============================] - 0s 1ms/step - loss: 0.2226 - accuracy: 0.9059\n",
      "Epoch 60/100\n",
      "24/24 [==============================] - 0s 700us/step - loss: 0.2527 - accuracy: 0.8890\n",
      "Epoch 61/100\n",
      "24/24 [==============================] - 0s 711us/step - loss: 0.2470 - accuracy: 0.8916\n",
      "Epoch 62/100\n",
      "24/24 [==============================] - 0s 699us/step - loss: 0.2464 - accuracy: 0.8883\n",
      "Epoch 63/100\n",
      "24/24 [==============================] - 0s 745us/step - loss: 0.2391 - accuracy: 0.8935\n",
      "Epoch 64/100\n",
      "24/24 [==============================] - 0s 763us/step - loss: 0.2438 - accuracy: 0.8935\n",
      "Epoch 65/100\n",
      "24/24 [==============================] - 0s 775us/step - loss: 0.2244 - accuracy: 0.9029\n",
      "Epoch 66/100\n",
      "24/24 [==============================] - 0s 721us/step - loss: 0.2276 - accuracy: 0.9038\n",
      "Epoch 67/100\n",
      "24/24 [==============================] - 0s 698us/step - loss: 0.2345 - accuracy: 0.9002\n",
      "Epoch 68/100\n",
      "24/24 [==============================] - 0s 703us/step - loss: 0.2528 - accuracy: 0.8835\n",
      "Epoch 69/100\n",
      "24/24 [==============================] - 0s 707us/step - loss: 0.2431 - accuracy: 0.8936\n",
      "Epoch 70/100\n",
      "24/24 [==============================] - 0s 690us/step - loss: 0.2247 - accuracy: 0.9046\n",
      "Epoch 71/100\n",
      "24/24 [==============================] - 0s 716us/step - loss: 0.2319 - accuracy: 0.9038\n",
      "Epoch 72/100\n",
      "24/24 [==============================] - 0s 727us/step - loss: 0.2626 - accuracy: 0.8773\n",
      "Epoch 73/100\n",
      "24/24 [==============================] - 0s 750us/step - loss: 0.2453 - accuracy: 0.8996\n",
      "Epoch 74/100\n",
      "24/24 [==============================] - 0s 732us/step - loss: 0.2578 - accuracy: 0.8826\n",
      "Epoch 75/100\n",
      "24/24 [==============================] - 0s 653us/step - loss: 0.2639 - accuracy: 0.8858\n",
      "Epoch 76/100\n",
      "24/24 [==============================] - 0s 751us/step - loss: 0.2278 - accuracy: 0.8985\n",
      "Epoch 77/100\n",
      "24/24 [==============================] - 0s 782us/step - loss: 0.2248 - accuracy: 0.9127\n",
      "Epoch 78/100\n",
      "24/24 [==============================] - 0s 755us/step - loss: 0.2545 - accuracy: 0.8819\n",
      "Epoch 79/100\n",
      "24/24 [==============================] - 0s 771us/step - loss: 0.2325 - accuracy: 0.8918\n",
      "Epoch 80/100\n",
      "24/24 [==============================] - 0s 743us/step - loss: 0.2329 - accuracy: 0.8969\n",
      "Epoch 81/100\n"
     ]
    },
    {
     "name": "stdout",
     "output_type": "stream",
     "text": [
      "24/24 [==============================] - 0s 642us/step - loss: 0.2367 - accuracy: 0.8949\n",
      "Epoch 82/100\n",
      "24/24 [==============================] - 0s 742us/step - loss: 0.2466 - accuracy: 0.8888\n",
      "Epoch 83/100\n",
      "24/24 [==============================] - 0s 791us/step - loss: 0.2607 - accuracy: 0.8857\n",
      "Epoch 84/100\n",
      "24/24 [==============================] - 0s 732us/step - loss: 0.2494 - accuracy: 0.8901\n",
      "Epoch 85/100\n",
      "24/24 [==============================] - 0s 756us/step - loss: 0.2360 - accuracy: 0.8962\n",
      "Epoch 86/100\n",
      "24/24 [==============================] - 0s 741us/step - loss: 0.2343 - accuracy: 0.8962\n",
      "Epoch 87/100\n",
      "24/24 [==============================] - 0s 724us/step - loss: 0.2340 - accuracy: 0.8961\n",
      "Epoch 88/100\n",
      "24/24 [==============================] - 0s 721us/step - loss: 0.2487 - accuracy: 0.8926\n",
      "Epoch 89/100\n",
      "24/24 [==============================] - 0s 756us/step - loss: 0.2717 - accuracy: 0.8764\n",
      "Epoch 90/100\n",
      "24/24 [==============================] - 0s 717us/step - loss: 0.2376 - accuracy: 0.8934\n",
      "Epoch 91/100\n",
      "24/24 [==============================] - 0s 717us/step - loss: 0.2283 - accuracy: 0.9058\n",
      "Epoch 92/100\n",
      "24/24 [==============================] - 0s 731us/step - loss: 0.2233 - accuracy: 0.9141\n",
      "Epoch 93/100\n",
      "24/24 [==============================] - 0s 682us/step - loss: 0.2748 - accuracy: 0.8852\n",
      "Epoch 94/100\n",
      "24/24 [==============================] - 0s 803us/step - loss: 0.2425 - accuracy: 0.8989\n",
      "Epoch 95/100\n",
      "24/24 [==============================] - 0s 761us/step - loss: 0.2618 - accuracy: 0.8935\n",
      "Epoch 96/100\n",
      "24/24 [==============================] - 0s 747us/step - loss: 0.2232 - accuracy: 0.9053\n",
      "Epoch 97/100\n",
      "24/24 [==============================] - 0s 779us/step - loss: 0.2146 - accuracy: 0.9117\n",
      "Epoch 98/100\n",
      "24/24 [==============================] - 0s 695us/step - loss: 0.2195 - accuracy: 0.9133\n",
      "Epoch 99/100\n",
      "24/24 [==============================] - 0s 699us/step - loss: 0.2302 - accuracy: 0.8984\n",
      "Epoch 100/100\n",
      "24/24 [==============================] - 0s 742us/step - loss: 0.2280 - accuracy: 0.9020\n"
     ]
    }
   ],
   "source": [
    "# Compile the Sequential model together and customize metrics\n",
    "new_model.compile(loss=\"binary_crossentropy\", optimizer=\"adam\", metrics=[\"accuracy\"])\n",
    "\n",
    "# Fit the model to the training data\n",
    "new_fit_model = new_model.fit(X_moon_train_scaled, y_moon_train, epochs=100, shuffle=True)\n"
   ]
  },
  {
   "cell_type": "code",
   "execution_count": null,
   "metadata": {},
   "outputs": [],
   "source": []
  }
 ],
 "metadata": {
  "kernelspec": {
   "display_name": "mlenv",
   "language": "python",
   "name": "mlenv"
  },
  "language_info": {
   "codemirror_mode": {
    "name": "ipython",
    "version": 3
   },
   "file_extension": ".py",
   "mimetype": "text/x-python",
   "name": "python",
   "nbconvert_exporter": "python",
   "pygments_lexer": "ipython3",
   "version": "3.7.9"
  }
 },
 "nbformat": 4,
 "nbformat_minor": 4
}
